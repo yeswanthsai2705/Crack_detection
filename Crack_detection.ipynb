{
 "cells": [
  {
   "cell_type": "markdown",
   "metadata": {
    "papermill": {
     "duration": 0.010099,
     "end_time": "2021-03-14T20:26:57.647552",
     "exception": false,
     "start_time": "2021-03-14T20:26:57.637453",
     "status": "completed"
    },
    "tags": []
   },
   "source": [
    "# Crack Detection\n"
   ]
  },
  {
   "cell_type": "code",
   "execution_count": 1,
   "metadata": {
    "_cell_guid": "b1076dfc-b9ad-4769-8c92-a6c4dae69d19",
    "_uuid": "8f2839f25d086af736a60e9eeb907d3b93b6e0e5",
    "execution": {
     "iopub.execute_input": "2021-03-14T20:26:57.671607Z",
     "iopub.status.busy": "2021-03-14T20:26:57.670999Z",
     "iopub.status.idle": "2021-03-14T20:27:03.152682Z",
     "shell.execute_reply": "2021-03-14T20:27:03.153345Z"
    },
    "papermill": {
     "duration": 5.497273,
     "end_time": "2021-03-14T20:27:03.153730",
     "exception": false,
     "start_time": "2021-03-14T20:26:57.656457",
     "status": "completed"
    },
    "tags": []
   },
   "outputs": [],
   "source": [
    "import matplotlib.pyplot as plt\n",
    "import seaborn as sns\n",
    "import keras\n",
    "from keras.models import Sequential\n",
    "from keras.layers import Dense, Conv2D , MaxPool2D , Flatten , Dropout \n",
    "from keras.preprocessing.image import ImageDataGenerator\n",
    "from keras.optimizers import Adam, RMSprop, Adagrad\n",
    "from keras.layers import BatchNormalization\n",
    "from sklearn.metrics import classification_report,confusion_matrix\n",
    "import tensorflow as tf\n",
    "import cv2\n",
    "import os\n",
    "import numpy as np\n",
    "import warnings\n",
    "warnings.filterwarnings('ignore')"
   ]
  },
  {
   "cell_type": "markdown",
   "metadata": {
    "papermill": {
     "duration": 0.01237,
     "end_time": "2021-03-14T20:27:03.180280",
     "exception": false,
     "start_time": "2021-03-14T20:27:03.167910",
     "status": "completed"
    },
    "tags": []
   },
   "source": [
    "<a id = \"1\"></a><br>\n",
    "# Load Dataset"
   ]
  },
  {
   "cell_type": "code",
   "execution_count": 2,
   "metadata": {
    "execution": {
     "iopub.execute_input": "2021-03-14T20:27:03.218723Z",
     "iopub.status.busy": "2021-03-14T20:27:03.217939Z",
     "iopub.status.idle": "2021-03-14T20:32:08.132540Z",
     "shell.execute_reply": "2021-03-14T20:32:08.131543Z"
    },
    "papermill": {
     "duration": 304.94,
     "end_time": "2021-03-14T20:32:08.132689",
     "exception": false,
     "start_time": "2021-03-14T20:27:03.192689",
     "status": "completed"
    },
    "tags": []
   },
   "outputs": [],
   "source": [
    "labels = ['Negative', 'Positive']\n",
    "img_size = 120\n",
    "def read_images(data_dir):\n",
    "    data = [] \n",
    "    for label in labels: \n",
    "        path = os.path.join(data_dir, label)\n",
    "        class_num = labels.index(label)\n",
    "        for img in os.listdir(path):\n",
    "            try:\n",
    "                img_arr = cv2.imread(os.path.join(path, img), cv2.IMREAD_GRAYSCALE)\n",
    "                resized_arr = cv2.resize(img_arr, (img_size, img_size)) \n",
    "                data.append([resized_arr, class_num])\n",
    "            except Exception as e:\n",
    "                print(e)\n",
    "    return np.array(data)\n",
    "\n",
    "Dataset = read_images('../input/surface-crack-detection')"
   ]
  },
  {
   "cell_type": "markdown",
   "metadata": {
    "papermill": {
     "duration": 0.008764,
     "end_time": "2021-03-14T20:32:08.151982",
     "exception": false,
     "start_time": "2021-03-14T20:32:08.143218",
     "status": "completed"
    },
    "tags": []
   },
   "source": [
    "<a id = \"2\"></a><br>\n",
    "# Visualizing the Dataset"
   ]
  },
  {
   "cell_type": "code",
   "execution_count": 3,
   "metadata": {
    "execution": {
     "iopub.execute_input": "2021-03-14T20:32:08.192516Z",
     "iopub.status.busy": "2021-03-14T20:32:08.182325Z",
     "iopub.status.idle": "2021-03-14T20:32:08.430165Z",
     "shell.execute_reply": "2021-03-14T20:32:08.430569Z"
    },
    "papermill": {
     "duration": 0.269832,
     "end_time": "2021-03-14T20:32:08.430716",
     "exception": false,
     "start_time": "2021-03-14T20:32:08.160884",
     "status": "completed"
    },
    "tags": []
   },
   "outputs": [
    {
     "data": {
      "text/plain": [
       "Text(0.5, 1.0, 'Number of Images')"
      ]
     },
     "execution_count": 3,
     "metadata": {},
     "output_type": "execute_result"
    },
    {
     "data": {
      "image/png": "[encoded data removed]",
      "text/plain": [
       "<Figure size 720x720 with 1 Axes>"
      ]
     },
     "metadata": {
      "needs_background": "light"
     },
     "output_type": "display_data"
    }
   ],
   "source": [
    "Im = []\n",
    "for i in Dataset:\n",
    "    if(i[1] == 0):\n",
    "        Im.append(\"Negative\")\n",
    "    elif(i[1] == 1):\n",
    "        Im.append(\"Positive\")\n",
    "\n",
    "plt.figure(figsize=(10, 10))\n",
    "plt.subplot(2, 2, 1)\n",
    "sns.set_style('darkgrid')\n",
    "axl = sns.countplot(Im)\n",
    "axl.set_title(\"Number of Images\")"
   ]
  },
  {
   "cell_type": "markdown",
   "metadata": {
    "papermill": {
     "duration": 0.009788,
     "end_time": "2021-03-14T20:32:08.450721",
     "exception": false,
     "start_time": "2021-03-14T20:32:08.440933",
     "status": "completed"
    },
    "tags": []
   },
   "source": [
    "<a id = \"3\"></a><br>\n",
    "# Normalization of image data"
   ]
  },
  {
   "cell_type": "code",
   "execution_count": 4,
   "metadata": {
    "execution": {
     "iopub.execute_input": "2021-03-14T20:32:08.498283Z",
     "iopub.status.busy": "2021-03-14T20:32:08.487991Z",
     "iopub.status.idle": "2021-03-14T20:32:10.138750Z",
     "shell.execute_reply": "2021-03-14T20:32:10.138218Z"
    },
    "papermill": {
     "duration": 1.678259,
     "end_time": "2021-03-14T20:32:10.138876",
     "exception": false,
     "start_time": "2021-03-14T20:32:08.460617",
     "status": "completed"
    },
    "tags": []
   },
   "outputs": [],
   "source": [
    "x = []\n",
    "y = []\n",
    "\n",
    "for feature, label in Dataset:\n",
    "    x.append(feature)\n",
    "    y.append(label)\n",
    "\n",
    "x = np.array(x).reshape(-1, img_size, img_size, 1)\n",
    "x = x / 255\n",
    "y = np.array(y)"
   ]
  },
  {
   "cell_type": "code",
   "execution_count": 5,
   "metadata": {
    "execution": {
     "iopub.execute_input": "2021-03-14T20:32:10.180095Z",
     "iopub.status.busy": "2021-03-14T20:32:10.178985Z",
     "iopub.status.idle": "2021-03-14T20:32:10.348989Z",
     "shell.execute_reply": "2021-03-14T20:32:10.348546Z"
    },
    "papermill": {
     "duration": 0.19977,
     "end_time": "2021-03-14T20:32:10.349114",
     "exception": false,
     "start_time": "2021-03-14T20:32:10.149344",
     "status": "completed"
    },
    "tags": []
   },
   "outputs": [
    {
     "data": {
      "text/plain": [
       "(-0.5, 119.5, 119.5, -0.5)"
      ]
     },
     "execution_count": 5,
     "metadata": {},
     "output_type": "execute_result"
    },
    {
     "data": {
      "image/png": "[encoded data removed]",
      "text/plain": [
       "<Figure size 432x288 with 2 Axes>"
      ]
     },
     "metadata": {},
     "output_type": "display_data"
    }
   ],
   "source": [
    "plt.subplot(1, 2, 1)\n",
    "plt.imshow(x[1000].reshape(img_size, img_size), cmap='gray')\n",
    "plt.axis('off')\n",
    "plt.subplot(1, 2, 2)\n",
    "plt.imshow(x[30000].reshape(img_size, img_size), cmap='gray')\n",
    "plt.axis('off')"
   ]
  },
  {
   "cell_type": "markdown",
   "metadata": {
    "papermill": {
     "duration": 0.01164,
     "end_time": "2021-03-14T20:32:10.373223",
     "exception": false,
     "start_time": "2021-03-14T20:32:10.361583",
     "status": "completed"
    },
    "tags": []
   },
   "source": [
    "<a id=\"4\"></a><br>\n",
    "# Convolutional Neural Networks (CNN)\n",
    "\n",
    "Convolutional neural networks (CNN) serve as a neural network approach capable of processing 2-dimensional arrays, particularly images, comprising three color components (Lecun et al., 2010). Local features, known as edges, amalgamate into patterns within images, subsequently forming pieces, and further coalescing into objects (Bengio & Lecun, 1997). These characteristics are harnessed within the convolution layer, and subsequently integrated and processed in the pooling layer.\n",
    "\n",
    "CNNs consist of input, output, and multiple hidden layers. Among them are the convolution layer, pooling layer, rectified linear unit layer (ReLu), fully connected layer, and classification sections (Lecun et al., 2010).\n",
    "\n",
    "* **Convolution Layer**: Integral to CNNs, this layer executes multi-dimensional convolution processes. It facilitates adjustment of neurons in the input matrix, referred to as the feature map, enabling feature learning.\n",
    "\n",
    "* **ReLu**: This layer flattens the post-convolution feature map. It converts negative values to zero, yielding outputs within the range of zero to positive infinity.\n",
    "\n",
    "* **Pooling Layer**: Responsible for size reduction through subsampling operations (Kalchbrenner et al., 2014), preventing excessive memorization and aiding feature retention.\n",
    "\n",
    "During CNN training, regularization techniques are applied. Data augmentation, vital for weight regularization, and batch normalization (Srivastava et al., 2014) are crucial. Dropout, a method employed, primarily aims to *counter overfitting*."
   ]
  },
  {
   "cell_type": "code",
   "execution_count": 6,
   "metadata": {
    "execution": {
     "iopub.execute_input": "2021-03-14T20:32:10.403005Z",
     "iopub.status.busy": "2021-03-14T20:32:10.402521Z",
     "iopub.status.idle": "2021-03-14T20:32:13.144436Z",
     "shell.execute_reply": "2021-03-14T20:32:13.143751Z"
    },
    "papermill": {
     "duration": 2.759641,
     "end_time": "2021-03-14T20:32:13.144614",
     "exception": false,
     "start_time": "2021-03-14T20:32:10.384973",
     "status": "completed"
    },
    "tags": []
   },
   "outputs": [
    {
     "name": "stdout",
     "output_type": "stream",
     "text": [
      "Model: \"sequential\"\n",
      "_________________________________________________________________\n",
      "Layer (type)                 Output Shape              Param #   \n",
      "=================================================================\n",
      "conv2d (Conv2D)              (None, 120, 120, 64)      640       \n",
      "_________________________________________________________________\n",
      "max_pooling2d (MaxPooling2D) (None, 60, 60, 64)        0         \n",
      "_________________________________________________________________\n",
      "conv2d_1 (Conv2D)            (None, 60, 60, 64)        36928     \n",
      "_________________________________________________________________\n",
      "max_pooling2d_1 (MaxPooling2 (None, 30, 30, 64)        0         \n",
      "_________________________________________________________________\n",
      "conv2d_2 (Conv2D)            (None, 30, 30, 128)       73856     \n",
      "_________________________________________________________________\n",
      "max_pooling2d_2 (MaxPooling2 (None, 15, 15, 128)       0         \n",
      "_________________________________________________________________\n",
      "flatten (Flatten)            (None, 28800)             0         \n",
      "_________________________________________________________________\n",
      "dense (Dense)                (None, 256)               7373056   \n",
      "_________________________________________________________________\n",
      "dropout (Dropout)            (None, 256)               0         \n",
      "_________________________________________________________________\n",
      "batch_normalization (BatchNo (None, 256)               1024      \n",
      "_________________________________________________________________\n",
      "dense_1 (Dense)              (None, 2)                 514       \n",
      "=================================================================\n",
      "Total params: 7,486,018\n",
      "Trainable params: 7,485,506\n",
      "Non-trainable params: 512\n",
      "_________________________________________________________________\n"
     ]
    }
   ],
   "source": [
    "model = Sequential()\n",
    "model.add(Conv2D(64,3,padding=\"same\", activation=\"relu\", input_shape = x.shape[1:]))\n",
    "model.add(MaxPool2D())\n",
    "\n",
    "model.add(Conv2D(64, 3, padding=\"same\", activation=\"relu\"))\n",
    "model.add(MaxPool2D())\n",
    "\n",
    "model.add(Conv2D(128, 3, padding=\"same\", activation=\"relu\"))\n",
    "model.add(MaxPool2D())\n",
    "\n",
    "model.add(Flatten())\n",
    "model.add(Dense(256,activation=\"relu\"))\n",
    "model.add(Dropout(0.5))\n",
    "model.add(BatchNormalization())\n",
    "model.add(Dense(2, activation=\"softmax\"))\n",
    "\n",
    "model.summary()"
   ]
  },
  {
   "cell_type": "markdown",
   "metadata": {
    "papermill": {
     "duration": 0.012608,
     "end_time": "2021-03-14T20:32:13.171569",
     "exception": false,
     "start_time": "2021-03-14T20:32:13.158961",
     "status": "completed"
    },
    "tags": []
   },
   "source": [
    "<a id=\"5\"></a><br>\n",
    "# **Training the Model**\n",
    "\n",
    "* Raising the number of epochs can enhance accuracy.\n",
    "* Learning rate holds significance; experimenting with various rates can yield improved outcomes. Optimal rate can be determined through trial and error or grid search, though this elongates training duration.\n",
    "\n",
    "Opting for a low learning rate decelerates training, whereas a high rate accelerates it, yet jeopardizes accuracy."
   ]
  },
  {
   "cell_type": "code",
   "execution_count": 7,
   "metadata": {
    "execution": {
     "iopub.execute_input": "2021-03-14T20:32:13.206169Z",
     "iopub.status.busy": "2021-03-14T20:32:13.205010Z",
     "iopub.status.idle": "2021-03-14T20:35:15.186475Z",
     "shell.execute_reply": "2021-03-14T20:35:15.185519Z"
    },
    "papermill": {
     "duration": 182.00284,
     "end_time": "2021-03-14T20:35:15.186615",
     "exception": false,
     "start_time": "2021-03-14T20:32:13.183775",
     "status": "completed"
    },
    "tags": []
   },
   "outputs": [
    {
     "name": "stdout",
     "output_type": "stream",
     "text": [
      "Epoch 1/15\n",
      "235/235 [==============================] - 16s 55ms/step - loss: 0.4342 - accuracy: 0.7991 - val_loss: 0.4303 - val_accuracy: 0.9399\n",
      "Epoch 2/15\n",
      "235/235 [==============================] - 12s 50ms/step - loss: 0.0986 - accuracy: 0.9726 - val_loss: 0.1333 - val_accuracy: 0.9507\n",
      "Epoch 3/15\n",
      "235/235 [==============================] - 12s 50ms/step - loss: 0.0651 - accuracy: 0.9812 - val_loss: 0.0439 - val_accuracy: 0.9808\n",
      "Epoch 4/15\n",
      "235/235 [==============================] - 12s 50ms/step - loss: 0.0502 - accuracy: 0.9847 - val_loss: 0.0605 - val_accuracy: 0.9747\n",
      "Epoch 5/15\n",
      "235/235 [==============================] - 12s 50ms/step - loss: 0.0486 - accuracy: 0.9863 - val_loss: 0.0564 - val_accuracy: 0.9773\n",
      "Epoch 6/15\n",
      "235/235 [==============================] - 12s 50ms/step - loss: 0.0375 - accuracy: 0.9896 - val_loss: 0.0506 - val_accuracy: 0.9803\n",
      "Epoch 7/15\n",
      "235/235 [==============================] - 12s 50ms/step - loss: 0.0373 - accuracy: 0.9900 - val_loss: 0.0830 - val_accuracy: 0.9697\n",
      "Epoch 8/15\n",
      "235/235 [==============================] - 12s 50ms/step - loss: 0.0316 - accuracy: 0.9909 - val_loss: 0.0510 - val_accuracy: 0.9808\n",
      "Epoch 9/15\n",
      "235/235 [==============================] - 12s 50ms/step - loss: 0.0281 - accuracy: 0.9929 - val_loss: 0.0637 - val_accuracy: 0.9775\n",
      "Epoch 10/15\n",
      "235/235 [==============================] - 12s 50ms/step - loss: 0.0250 - accuracy: 0.9931 - val_loss: 0.0366 - val_accuracy: 0.9868\n",
      "Epoch 11/15\n",
      "235/235 [==============================] - 12s 49ms/step - loss: 0.0202 - accuracy: 0.9943 - val_loss: 0.0377 - val_accuracy: 0.9867\n",
      "Epoch 12/15\n",
      "235/235 [==============================] - 12s 49ms/step - loss: 0.0204 - accuracy: 0.9947 - val_loss: 0.0266 - val_accuracy: 0.9897\n",
      "Epoch 13/15\n",
      "235/235 [==============================] - 12s 50ms/step - loss: 0.0198 - accuracy: 0.9951 - val_loss: 0.0119 - val_accuracy: 0.9954\n",
      "Epoch 14/15\n",
      "235/235 [==============================] - 12s 50ms/step - loss: 0.0175 - accuracy: 0.9959 - val_loss: 0.0348 - val_accuracy: 0.9867\n",
      "Epoch 15/15\n",
      "235/235 [==============================] - 12s 49ms/step - loss: 0.0155 - accuracy: 0.9953 - val_loss: 0.0347 - val_accuracy: 0.9865\n"
     ]
    }
   ],
   "source": [
    "opt = Adam(lr=1e-5)\n",
    "\n",
    "model.compile(loss=\"sparse_categorical_crossentropy\", optimizer=opt, metrics=[\"accuracy\"]) \n",
    "\n",
    "history = model.fit(x, y, epochs = 15, batch_size = 128, validation_split = 0.25, verbose=1)"
   ]
  },
  {
   "cell_type": "code",
   "execution_count": 8,
   "metadata": {
    "execution": {
     "iopub.execute_input": "2021-03-14T20:35:16.498956Z",
     "iopub.status.busy": "2021-03-14T20:35:16.497488Z",
     "iopub.status.idle": "2021-03-14T20:35:16.501015Z",
     "shell.execute_reply": "2021-03-14T20:35:16.498224Z"
    },
    "papermill": {
     "duration": 0.779374,
     "end_time": "2021-03-14T20:35:16.501172",
     "exception": false,
     "start_time": "2021-03-14T20:35:15.721798",
     "status": "completed"
    },
    "tags": []
   },
   "outputs": [
    {
     "name": "stdout",
     "output_type": "stream",
     "text": [
      "dict_keys(['loss', 'accuracy', 'val_loss', 'val_accuracy'])\n"
     ]
    }
   ],
   "source": [
    "print(history.history.keys())"
   ]
  },
  {
   "cell_type": "markdown",
   "metadata": {
    "papermill": {
     "duration": 0.473107,
     "end_time": "2021-03-14T20:35:17.541922",
     "exception": false,
     "start_time": "2021-03-14T20:35:17.068815",
     "status": "completed"
    },
    "tags": []
   },
   "source": [
    "<a id = \"6\"></a><br>\n",
    "# **Graphs**"
   ]
  },
  {
   "cell_type": "code",
   "execution_count": 9,
   "metadata": {
    "execution": {
     "iopub.execute_input": "2021-03-14T20:35:18.758698Z",
     "iopub.status.busy": "2021-03-14T20:35:18.757970Z",
     "iopub.status.idle": "2021-03-14T20:35:19.150569Z",
     "shell.execute_reply": "2021-03-14T20:35:19.150969Z"
    },
    "papermill": {
     "duration": 0.882364,
     "end_time": "2021-03-14T20:35:19.151110",
     "exception": false,
     "start_time": "2021-03-14T20:35:18.268746",
     "status": "completed"
    },
    "tags": []
   },
   "outputs": [
    {
     "data": {
      "text/plain": [
       "<matplotlib.legend.Legend at 0x7fdc39cd4750>"
      ]
     },
     "execution_count": 9,
     "metadata": {},
     "output_type": "execute_result"
    },
    {
     "data": {
      "image/png": "[encoded data removed]",
      "text/plain": [
       "<Figure size 864x864 with 2 Axes>"
      ]
     },
     "metadata": {},
     "output_type": "display_data"
    }
   ],
   "source": [
    "plt.figure(figsize=(12, 12))\n",
    "plt.style.use('ggplot')\n",
    "plt.subplot(2,2,1)\n",
    "plt.plot(history.history['accuracy'])\n",
    "plt.plot(history.history['val_accuracy'])\n",
    "plt.title('Accuracy of the Model')\n",
    "plt.ylabel('Accuracy', fontsize=12)\n",
    "plt.xlabel('Epoch', fontsize=12)\n",
    "plt.legend(['train accuracy', 'validation accuracy'], loc='lower right', prop={'size': 12})\n",
    "\n",
    "plt.subplot(2,2,2)\n",
    "plt.plot(history.history['loss'])\n",
    "plt.plot(history.history['val_loss'])\n",
    "plt.title('Loss of the Model')\n",
    "plt.ylabel('Loss', fontsize=12)\n",
    "plt.xlabel('Epoch', fontsize=12)\n",
    "plt.legend(['train loss', 'validation loss'], loc='best', prop={'size': 12})"
   ]
  },
  {
   "cell_type": "markdown",
   "metadata": {
    "papermill": {
     "duration": 0.503405,
     "end_time": "2021-03-14T20:35:20.135417",
     "exception": false,
     "start_time": "2021-03-14T20:35:19.632012",
     "status": "completed"
    },
    "tags": []
   },
   "source": [
    "<a id = \"7\"></a><br>\n",
    "# Classification Report\n",
    "\n",
    "* The classification_report function builds a text report showing the main classification metrics. \n",
    "\n",
    "* **Precision** for each class, it is defined as the ratio of true positives to the sum of true and false positives.\n",
    "\n",
    "* **Recall** for each class, it is defined as the ratio of true positives to the sum of true positives and false negatives.\n",
    "* **F1 scores** are lower than accuracy measures as they embed precision and recall into their computation."
   ]
  },
  {
   "cell_type": "code",
   "execution_count": 10,
   "metadata": {
    "execution": {
     "iopub.execute_input": "2021-03-14T20:35:21.102498Z",
     "iopub.status.busy": "2021-03-14T20:35:21.101917Z",
     "iopub.status.idle": "2021-03-14T20:35:28.651443Z",
     "shell.execute_reply": "2021-03-14T20:35:28.651850Z"
    },
    "papermill": {
     "duration": 8.030444,
     "end_time": "2021-03-14T20:35:28.652006",
     "exception": false,
     "start_time": "2021-03-14T20:35:20.621562",
     "status": "completed"
    },
    "tags": []
   },
   "outputs": [
    {
     "name": "stdout",
     "output_type": "stream",
     "text": [
      "              precision    recall  f1-score   support\n",
      "\n",
      "    Negative       0.99      1.00      0.99     20000\n",
      "    Positive       1.00      0.99      0.99     20000\n",
      "\n",
      "    accuracy                           0.99     40000\n",
      "   macro avg       0.99      0.99      0.99     40000\n",
      "weighted avg       0.99      0.99      0.99     40000\n",
      "\n"
     ]
    }
   ],
   "source": [
    "from sklearn.metrics import classification_report,confusion_matrix\n",
    "\n",
    "predictions = model.predict_classes(x)\n",
    "predictions = predictions.reshape(1,-1)[0]\n",
    "print(classification_report(y, predictions, target_names = ['Negative','Positive']))"
   ]
  },
  {
   "cell_type": "markdown",
   "metadata": {
    "papermill": {
     "duration": 0.466805,
     "end_time": "2021-03-14T20:35:29.859495",
     "exception": false,
     "start_time": "2021-03-14T20:35:29.392690",
     "status": "completed"
    },
    "tags": []
   },
   "source": []
  },
  {
   "cell_type": "markdown",
   "metadata": {},
   "source": [
    "# Thank You\n"
   ]
  },
  {
   "cell_type": "markdown",
   "metadata": {},
   "source": []
  }
 ],
 "metadata": {
  "kernelspec": {
   "display_name": "Python 3",
   "language": "python",
   "name": "python3"
  },
  "language_info": {
   "codemirror_mode": {
    "name": "ipython",
    "version": 3
   },
   "file_extension": ".py",
   "mimetype": "text/x-python",
   "name": "python",
   "nbconvert_exporter": "python",
   "pygments_lexer": "ipython3",
   "version": "3.7.9"
  },
  "papermill": {
   "default_parameters": {},
   "duration": 520.857864,
   "end_time": "2021-03-14T20:35:33.743938",
   "environment_variables": {},
   "exception": null,
   "input_path": "__notebook__.ipynb",
   "output_path": "__notebook__.ipynb",
   "parameters": {},
   "start_time": "2021-03-14T20:26:52.886074",
   "version": "2.2.2"
  }
 },
 "nbformat": 4,
 "nbformat_minor": 4
}
